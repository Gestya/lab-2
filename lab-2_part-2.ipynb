{
 "cells": [
  {
   "cell_type": "markdown",
   "id": "2c6d0ed6",
   "metadata": {},
   "source": [
    "# Завдання 2\n",
    "Розв’язати систему алгебраїчних рівнянь за допомогою [формул Крамера](https://uk.wikipedia.org/wiki/%D0%9C%D0%B5%D1%82%D0%BE%D0%B4_%D0%9A%D1%80%D0%B0%D0%BC%D0%B5%D1%80%D0%B0) і виконати перевірку за допомогою:\n",
    "1. матричного множення;\n",
    "2. оберненої матриці;\n",
    "3. функції **numpy.linalg.solve()**.\n",
    "\n",
    "Порівняти всі рішення за допомогою функції **numpy.allclose()**. \n",
    "\n",
    "$$\n",
    "\\begin{cases}\n",
    "x_{2} -3x_{3} + 4x_{4} = -5 \\\\\n",
    "x_{1} -2x_{3} + 3x_{4} = -4 \\\\\n",
    "3x_{1} + 2x_{2} -5x_{4} = 12 \\\\\n",
    "4x_{1} + 3x_{2} -5x_{3} = 5 \\\\\n",
    "\\end{cases}\\,\n",
    "$$\n",
    "\n",
    "[LaTeX online](https://latexeditor.lagrida.com/)<br>\n",
    "[Multiline equations, systems and matrices](https://kogler.wordpress.com/2008/03/21/latex-multiline-equations-systems-and-matrices/)<br>\n",
    "[Equations System](https://steeven9.github.io/USI-LaTeX/html/math_equations_system.html)<br>\n",
    "[Spacing](https://www.overleaf.com/learn/latex/Spacing_in_math_mode)<br>"
   ]
  },
  {
   "cell_type": "code",
   "execution_count": 1,
   "id": "86ce2f44",
   "metadata": {},
   "outputs": [],
   "source": [
    "import numpy as np\n",
    "\n",
    "def сramer(A, B):\n",
    "    X = np.zeros(B.size, dtype = np.float64)\n",
    "    det = np.linalg.det(A)\n",
    "    for i in range (B.size):\n",
    "        Ai = np.array(A.T)\n",
    "        Ai[i] = B\n",
    "        X[i] = np.linalg.det(Ai) / det\n",
    "    return X\n",
    "\n",
    "def task_2():\n",
    "    A = np.array([[0, 1, -3, 4], [1, 0, -2, 3], [3, 2, 0, -5], [4, 3, -5, 0]])\n",
    "    print('A(ij)')\n",
    "    print(A)\n",
    "    B = np.array([-5, -4, 12, 5])\n",
    "    print('B(i):')\n",
    "    print(B)\n",
    "    \n",
    "    print('\\nCramer:')\n",
    "    X = сramer(A, B)\n",
    "    print(X)\n",
    "\n",
    "    print('\\n1. A*X:')\n",
    "    B1 = A @ X\n",
    "    print(B1)\n",
    "    print('Is it correst?', np.allclose(B, B1))\n",
    "    \n",
    "    print('\\n2. Inverse matrix:')\n",
    "    X2 = np.linalg.inv(A) @ B\n",
    "    print(X2)\n",
    "    print('Is it correst?', np.allclose(X, X2))\n",
    "    \n",
    "    print('\\n3. numpy.linalg.solve:')\n",
    "    X3 = np.linalg.solve(A, B)\n",
    "    print(X3)\n",
    "    print('Is it correst?', np.allclose(X, X3))\n",
    "    "
   ]
  },
  {
   "cell_type": "code",
   "execution_count": 2,
   "id": "4e1029f9",
   "metadata": {},
   "outputs": [
    {
     "name": "stdout",
     "output_type": "stream",
     "text": [
      "A(ij)\n",
      "[[ 0  1 -3  4]\n",
      " [ 1  0 -2  3]\n",
      " [ 3  2  0 -5]\n",
      " [ 4  3 -5  0]]\n",
      "B(i):\n",
      "[-5 -4 12  5]\n",
      "\n",
      "Cramer:\n",
      "[ 1.  2.  1. -1.]\n",
      "\n",
      "1. A*X:\n",
      "[-5. -4. 12.  5.]\n",
      "Is it correst? True\n",
      "\n",
      "2. Inverse matrix:\n",
      "[ 1.  2.  1. -1.]\n",
      "Is it correst? True\n",
      "\n",
      "3. numpy.linalg.solve:\n",
      "[ 1.  2.  1. -1.]\n",
      "Is it correst? True\n"
     ]
    }
   ],
   "source": [
    "task_2()"
   ]
  },
  {
   "cell_type": "markdown",
   "id": "e7b6503f",
   "metadata": {},
   "source": [
    "# Завдання 3\n",
    "\n",
    "Обчислити значення матричного виразу:\n",
    "1. З використанням універсальних функцій бібліотеки **NumPy**.\n",
    "1. За допомогою ітеративних конструкцій (з використанням циклів, спискових включень тощо).\n",
    "1. Для обох випадків підрахувати час виконання скрипту та зробити висновок.\n",
    "\n",
    "Порівняти всі рішення за допомогою функції **numpy.allclose()**.\n",
    "\n",
    "$$\n",
    "(A^{2} -B^{2}) \\cdot (A + B) \\\\\n",
    "\\textrm{де}\\quad\n",
    "A = \\begin{bmatrix} 7 & 2 & 0 \\\\ -7 & -2 & 1 \\\\ 1 & 1 & 0 \\end{bmatrix},\n",
    "B = \\begin{bmatrix} 0 & 2 & 3 \\\\ 1 & 0 & 2 \\\\ 3 & 1 & 1 \\end{bmatrix}\n",
    "$$"
   ]
  },
  {
   "cell_type": "code",
   "execution_count": 9,
   "id": "7da20d4e",
   "metadata": {},
   "outputs": [],
   "source": [
    "import numpy as np\n",
    "\n",
    "def calc_np(A, B):\n",
    "    A = np.array(A)\n",
    "    B = np.array(B)\n",
    "    return (A@A - B@B) @ (A + B)\n",
    "\n",
    "def add(A, B):\n",
    "    size = len(A)\n",
    "    C = [[0 for i in range(size)] for j in range(size)]\n",
    "    for i in range(size):\n",
    "        for j in range(size):\n",
    "            C[i][j] = A[i][j] + B[i][j]\n",
    "    return C\n",
    "\n",
    "def sub(A, B):\n",
    "    size = len(A)\n",
    "    C = [[0 for i in range(size)] for j in range(size)]\n",
    "    for i in range(size):\n",
    "        for j in range(size):\n",
    "            C[i][j] = A[i][j] - B[i][j]\n",
    "    return C\n",
    "\n",
    "def prod(A, B):\n",
    "    size = len(A)\n",
    "    C = [[0 for i in range(size)] for j in range(size)]\n",
    "    for i in range(size):\n",
    "        for j in range(size):\n",
    "            for t in range(size):\n",
    "                C[i][j] += A[i][t] * B[t][j]\n",
    "    return C\n",
    "\n",
    "def calc_reg(A, B):\n",
    "    X1 = sub( prod(A, A), prod(B, B) )\n",
    "    X2 = add(A, B)\n",
    "    return prod(X1, X2)\n",
    "\n",
    "def task_3():\n",
    "    A = [ [7, 2, 0], [-7, -2, 1], [1, 1, 0] ]\n",
    "    B = [ [0, 2, 3], [1, 0, 2], [3, 1, 1] ]\n",
    "    \n",
    "    print('=> NumPy')\n",
    "    C1 = calc_np(A, B)\n",
    "    print(C1)\n",
    "    %timeit calc_np(A, B)\n",
    "    \n",
    "    print('=> Regular Python')\n",
    "    C2 = calc_reg(A, B)\n",
    "    print(np.array(C2))\n",
    "    %timeit calc_reg(A, B)\n",
    "    \n",
    "    print('\\nAre they identical?', np.allclose(C1, C2))\n"
   ]
  },
  {
   "cell_type": "code",
   "execution_count": 11,
   "id": "725f8025",
   "metadata": {},
   "outputs": [
    {
     "name": "stdout",
     "output_type": "stream",
     "text": [
      "=> NumPy\n",
      "[[ 106   72   88]\n",
      " [-230 -148 -166]\n",
      " [ -30  -24  -44]]\n",
      "6.06 µs ± 52.3 ns per loop (mean ± std. dev. of 7 runs, 100,000 loops each)\n",
      "=> Regular Python\n",
      "[[ 106   72   88]\n",
      " [-230 -148 -166]\n",
      " [ -30  -24  -44]]\n",
      "30.6 µs ± 134 ns per loop (mean ± std. dev. of 7 runs, 10,000 loops each)\n",
      "\n",
      "Are they identical? True\n"
     ]
    }
   ],
   "source": [
    "task_3 ()"
   ]
  },
  {
   "cell_type": "code",
   "execution_count": null,
   "id": "962d9170",
   "metadata": {},
   "outputs": [],
   "source": []
  }
 ],
 "metadata": {
  "kernelspec": {
   "display_name": "Python 3 (ipykernel)",
   "language": "python",
   "name": "python3"
  },
  "language_info": {
   "codemirror_mode": {
    "name": "ipython",
    "version": 3
   },
   "file_extension": ".py",
   "mimetype": "text/x-python",
   "name": "python",
   "nbconvert_exporter": "python",
   "pygments_lexer": "ipython3",
   "version": "3.10.9"
  }
 },
 "nbformat": 4,
 "nbformat_minor": 5
}
