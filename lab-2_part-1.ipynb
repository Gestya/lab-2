{
 "cells": [
  {
   "cell_type": "markdown",
   "id": "f1133701",
   "metadata": {},
   "source": [
    "# Завдання 1"
   ]
  },
  {
   "cell_type": "code",
   "execution_count": 13,
   "id": "fc79c89f",
   "metadata": {},
   "outputs": [],
   "source": [
    "import numpy as np\n",
    "\n",
    "def get_n(strin):\n",
    "    pieces = strin.split(' ')\n",
    "    if len(pieces) != 1 or not pieces[0].isnumeric():\n",
    "        print('Wrong input data: it must be a number.')\n",
    "        return False, 0\n",
    "    n = int(pieces[0])\n",
    "    return True, n\n",
    "\n",
    "def get_n_m(strin):\n",
    "    pieces = strin.split(' ')\n",
    "    if len(pieces) != 2 or not pieces[0].isnumeric() or not pieces[1].isnumeric():\n",
    "        print('Wrong input data: it must be two numbers.')\n",
    "        return False, 0, 0\n",
    "    n = int(pieces[0])\n",
    "    m = int(pieces[1])\n",
    "    return True, n, m\n",
    "\n",
    "def get_array(strin):\n",
    "    pieces = strin.split(' ')\n",
    "    arr = []\n",
    "    for p in pieces:\n",
    "        if not p.isnumeric():\n",
    "            print('Wrong input data: all elements must be numerical.')\n",
    "            return False, []\n",
    "        arr.append(int(p))\n",
    "    return True, arr"
   ]
  },
  {
   "cell_type": "markdown",
   "id": "617d84a3",
   "metadata": {},
   "source": [
    "### Вправа 2\n",
    "\n",
    "Вводиться число *n*. Розставити 1 та 0 у шаховому порядку, починаючи з 1 в матриці розміром *n×n*, використовуючи слайсінг."
   ]
  },
  {
   "cell_type": "code",
   "execution_count": 14,
   "id": "8456fde5",
   "metadata": {},
   "outputs": [],
   "source": [
    "def np_2(n):\n",
    "    template = np.array([0, 1] * (int(n / 2) + 1))\n",
    "    line_0 = template[0:n]\n",
    "    line_1 = template[1:n+1]\n",
    "    return np.array([line_0, line_1] * (int(n / 2 + 0.5)))[0:n]\n",
    "\n",
    "def reg_2(n):\n",
    "    res = []\n",
    "    for i in range(n):\n",
    "        res.append([])\n",
    "        for j in range(n):\n",
    "            res[i].append(0 if not (i+j)%2 else 1)\n",
    "    return res\n",
    "\n",
    "def task_2():\n",
    "    print('Enter n:')\n",
    "    success, n = get_n(input())\n",
    "    if not success:\n",
    "        return\n",
    "    \n",
    "    print('=> NumPy')\n",
    "    print(np_2(n))\n",
    "    %timeit np_2(n)\n",
    "    \n",
    "    print('=> Regular Python')\n",
    "    print(np.array(reg_2(n)))\n",
    "    %timeit reg_2(n)"
   ]
  },
  {
   "cell_type": "code",
   "execution_count": 16,
   "id": "e1496a5b",
   "metadata": {},
   "outputs": [
    {
     "name": "stdout",
     "output_type": "stream",
     "text": [
      "Enter n:\n",
      "3\n",
      "=> NumPy\n",
      "[[0 1 0]\n",
      " [1 0 1]\n",
      " [0 1 0]]\n",
      "2.79 µs ± 47.7 ns per loop (mean ± std. dev. of 7 runs, 100,000 loops each)\n",
      "=> Regular Python\n",
      "[[0 1 0]\n",
      " [1 0 1]\n",
      " [0 1 0]]\n",
      "1.74 µs ± 5.86 ns per loop (mean ± std. dev. of 7 runs, 1,000,000 loops each)\n"
     ]
    }
   ],
   "source": [
    "task_2()"
   ]
  },
  {
   "cell_type": "code",
   "execution_count": 17,
   "id": "e22a38b6",
   "metadata": {},
   "outputs": [
    {
     "name": "stdout",
     "output_type": "stream",
     "text": [
      "Enter n:\n",
      "90\n",
      "=> NumPy\n",
      "[[0 1 0 ... 1 0 1]\n",
      " [1 0 1 ... 0 1 0]\n",
      " [0 1 0 ... 1 0 1]\n",
      " ...\n",
      " [1 0 1 ... 0 1 0]\n",
      " [0 1 0 ... 1 0 1]\n",
      " [1 0 1 ... 0 1 0]]\n",
      "29.9 µs ± 242 ns per loop (mean ± std. dev. of 7 runs, 10,000 loops each)\n",
      "=> Regular Python\n",
      "[[0 1 0 ... 1 0 1]\n",
      " [1 0 1 ... 0 1 0]\n",
      " [0 1 0 ... 1 0 1]\n",
      " ...\n",
      " [1 0 1 ... 0 1 0]\n",
      " [0 1 0 ... 1 0 1]\n",
      " [1 0 1 ... 0 1 0]]\n",
      "813 µs ± 2.02 µs per loop (mean ± std. dev. of 7 runs, 1,000 loops each)\n"
     ]
    }
   ],
   "source": [
    "task_2()"
   ]
  },
  {
   "cell_type": "markdown",
   "id": "1a5afb70",
   "metadata": {},
   "source": [
    "### Вправа 4\n",
    "\n",
    "Вводяться числа *n* і *m*. Вивести масив розміру n×m, в якому у першому рядку (рядок з нулевим індексом) йдуть числа від 0 до *m*–1, а всі інші елементи матриці дорівнюють 0."
   ]
  },
  {
   "cell_type": "code",
   "execution_count": 9,
   "id": "b50a648d",
   "metadata": {},
   "outputs": [],
   "source": [
    "def np_4(n, m):\n",
    "    A = np.zeros((n,m), dtype=int)\n",
    "    A[0] = np.arange(0, m, 1)\n",
    "    return A\n",
    "\n",
    "def reg_4(n, m):\n",
    "    A = [[0 for i in range(m)] for j in range(n)]\n",
    "    for j in range(0,m):\n",
    "        A[0][j] = j\n",
    "    return A\n",
    "\n",
    "def task_4():\n",
    "    print('Enter n and m:')\n",
    "    success, n, m = get_n_m(input())\n",
    "    if not success:\n",
    "        return\n",
    "    \n",
    "    print('=> NumPy')\n",
    "    print(np_4(n, m))\n",
    "    %timeit np_4(n, m)\n",
    "    \n",
    "    print('=> Regular Python')\n",
    "    print(np.array(reg_4(n, m)))\n",
    "    %timeit reg_4(n, m)"
   ]
  },
  {
   "cell_type": "code",
   "execution_count": 19,
   "id": "d72f3757",
   "metadata": {},
   "outputs": [
    {
     "name": "stdout",
     "output_type": "stream",
     "text": [
      "Enter n and m:\n",
      "1 3\n",
      "=> NumPy\n",
      "[[0 1 2]]\n",
      "1.3 µs ± 4.03 ns per loop (mean ± std. dev. of 7 runs, 1,000,000 loops each)\n",
      "=> Regular Python\n",
      "[[0 1 2]]\n",
      "1.03 µs ± 7.56 ns per loop (mean ± std. dev. of 7 runs, 1,000,000 loops each)\n"
     ]
    }
   ],
   "source": [
    "task_4()"
   ]
  },
  {
   "cell_type": "code",
   "execution_count": 20,
   "id": "24fe4813",
   "metadata": {},
   "outputs": [
    {
     "name": "stdout",
     "output_type": "stream",
     "text": [
      "Enter n and m:\n",
      "70 90\n",
      "=> NumPy\n",
      "[[ 0  1  2 ... 87 88 89]\n",
      " [ 0  0  0 ...  0  0  0]\n",
      " [ 0  0  0 ...  0  0  0]\n",
      " ...\n",
      " [ 0  0  0 ...  0  0  0]\n",
      " [ 0  0  0 ...  0  0  0]\n",
      " [ 0  0  0 ...  0  0  0]]\n",
      "2.34 µs ± 12.2 ns per loop (mean ± std. dev. of 7 runs, 100,000 loops each)\n",
      "=> Regular Python\n",
      "[[ 0  1  2 ... 87 88 89]\n",
      " [ 0  0  0 ...  0  0  0]\n",
      " [ 0  0  0 ...  0  0  0]\n",
      " ...\n",
      " [ 0  0  0 ...  0  0  0]\n",
      " [ 0  0  0 ...  0  0  0]\n",
      " [ 0  0  0 ...  0  0  0]]\n",
      "151 µs ± 954 ns per loop (mean ± std. dev. of 7 runs, 10,000 loops each)\n"
     ]
    }
   ],
   "source": [
    "task_4()"
   ]
  },
  {
   "cell_type": "markdown",
   "id": "e79e6f07",
   "metadata": {},
   "source": [
    "### Вправа 5\n",
    "\n",
    "Вводиться число *n*. Вивести масив розміру *n×n*, в якому в рядках з парними індексами стоять 1, а в інших – 0."
   ]
  },
  {
   "cell_type": "code",
   "execution_count": 22,
   "id": "890751b9",
   "metadata": {},
   "outputs": [],
   "source": [
    "def np_5(n):\n",
    "    template = np.array([1, 0] * (int(n / 2) + 1))[0:n]\n",
    "    return np.repeat(template, n).reshape(n,n)\n",
    "\n",
    "def reg_5(n):\n",
    "    A = [[0 for i in range(n)] for j in range(n)]\n",
    "    enen_odd = True\n",
    "    for i in range(n):\n",
    "        if i%2:\n",
    "            continue\n",
    "        for j in range(n):\n",
    "            A[i][j] = 1\n",
    "    return A\n",
    "\n",
    "def task_5():\n",
    "    print('Enter n:')\n",
    "    success, n = get_n(input())\n",
    "    if not success:\n",
    "        return\n",
    "    \n",
    "    print('=> NumPy')\n",
    "    print(np_5(n))\n",
    "    %timeit np_5(n)\n",
    "    \n",
    "    print('=> Regular Python')\n",
    "    print(np.array(reg_5(n)))\n",
    "    %timeit reg_5(n)"
   ]
  },
  {
   "cell_type": "code",
   "execution_count": 23,
   "id": "a70fd34e",
   "metadata": {
    "scrolled": true
   },
   "outputs": [
    {
     "name": "stdout",
     "output_type": "stream",
     "text": [
      "Enter n:\n",
      "9\n",
      "=> NumPy\n",
      "[[1 1 1 1 1 1 1 1 1]\n",
      " [0 0 0 0 0 0 0 0 0]\n",
      " [1 1 1 1 1 1 1 1 1]\n",
      " [0 0 0 0 0 0 0 0 0]\n",
      " [1 1 1 1 1 1 1 1 1]\n",
      " [0 0 0 0 0 0 0 0 0]\n",
      " [1 1 1 1 1 1 1 1 1]\n",
      " [0 0 0 0 0 0 0 0 0]\n",
      " [1 1 1 1 1 1 1 1 1]]\n",
      "3.13 µs ± 29 ns per loop (mean ± std. dev. of 7 runs, 100,000 loops each)\n",
      "=> Regular Python\n",
      "[[1 1 1 1 1 1 1 1 1]\n",
      " [0 0 0 0 0 0 0 0 0]\n",
      " [1 1 1 1 1 1 1 1 1]\n",
      " [0 0 0 0 0 0 0 0 0]\n",
      " [1 1 1 1 1 1 1 1 1]\n",
      " [0 0 0 0 0 0 0 0 0]\n",
      " [1 1 1 1 1 1 1 1 1]\n",
      " [0 0 0 0 0 0 0 0 0]\n",
      " [1 1 1 1 1 1 1 1 1]]\n",
      "7.28 µs ± 67.7 ns per loop (mean ± std. dev. of 7 runs, 100,000 loops each)\n"
     ]
    }
   ],
   "source": [
    "task_5()"
   ]
  },
  {
   "cell_type": "code",
   "execution_count": 24,
   "id": "f33867ee",
   "metadata": {},
   "outputs": [
    {
     "name": "stdout",
     "output_type": "stream",
     "text": [
      "Enter n:\n",
      "9\n",
      "=> NumPy\n",
      "[[1 1 1 1 1 1 1 1 1]\n",
      " [0 0 0 0 0 0 0 0 0]\n",
      " [1 1 1 1 1 1 1 1 1]\n",
      " [0 0 0 0 0 0 0 0 0]\n",
      " [1 1 1 1 1 1 1 1 1]\n",
      " [0 0 0 0 0 0 0 0 0]\n",
      " [1 1 1 1 1 1 1 1 1]\n",
      " [0 0 0 0 0 0 0 0 0]\n",
      " [1 1 1 1 1 1 1 1 1]]\n",
      "3.16 µs ± 32.4 ns per loop (mean ± std. dev. of 7 runs, 100,000 loops each)\n",
      "=> Regular Python\n",
      "[[1 1 1 1 1 1 1 1 1]\n",
      " [0 0 0 0 0 0 0 0 0]\n",
      " [1 1 1 1 1 1 1 1 1]\n",
      " [0 0 0 0 0 0 0 0 0]\n",
      " [1 1 1 1 1 1 1 1 1]\n",
      " [0 0 0 0 0 0 0 0 0]\n",
      " [1 1 1 1 1 1 1 1 1]\n",
      " [0 0 0 0 0 0 0 0 0]\n",
      " [1 1 1 1 1 1 1 1 1]]\n",
      "7.29 µs ± 32.5 ns per loop (mean ± std. dev. of 7 runs, 100,000 loops each)\n"
     ]
    }
   ],
   "source": [
    "task_5()"
   ]
  },
  {
   "cell_type": "markdown",
   "id": "73694fe6",
   "metadata": {},
   "source": [
    "### Вправа 8\n",
    "\n",
    "З клавіатури вводиться масив. Підрахувати в ньому кількість нульових та ненульових елементів."
   ]
  },
  {
   "cell_type": "code",
   "execution_count": 27,
   "id": "c86040b2",
   "metadata": {},
   "outputs": [],
   "source": [
    "def np_8(arr):\n",
    "    np_arr = np.array(arr)\n",
    "    non_zero_cnt = np.count_nonzero(np_arr)\n",
    "    return np_arr.size - non_zero_cnt, non_zero_cnt\n",
    "\n",
    "def reg_8(arr):\n",
    "    zero_cnt = 0\n",
    "    for el in arr:\n",
    "        if not el:\n",
    "            zero_cnt += 1\n",
    "    return zero_cnt, len(arr) - zero_cnt\n",
    "\n",
    "def task_8():\n",
    "    print('Enter array:')\n",
    "    success, arr = get_array(input())\n",
    "    if not success:\n",
    "        return\n",
    "    \n",
    "    print('=> NumPy (given array)')\n",
    "    print(np_8(arr))\n",
    "    %timeit np_8(arr)\n",
    "    print('=> Regular Python (given array)')\n",
    "    print(reg_8(arr))\n",
    "    %timeit reg_8(arr)\n",
    "    \n",
    "    arr = np.random.randint(-3, 3, 10000)\n",
    "    \n",
    "    print('=> NumPy (randon array with 10K elements)')\n",
    "    print(np_8(arr))\n",
    "    %timeit np_8(arr)\n",
    "    print('=> Regular Python (randon array with 10K elements)')\n",
    "    print(reg_8(arr))\n",
    "    %timeit reg_8(arr)\n"
   ]
  },
  {
   "cell_type": "code",
   "execution_count": 29,
   "id": "8c5bb389",
   "metadata": {},
   "outputs": [
    {
     "name": "stdout",
     "output_type": "stream",
     "text": [
      "Enter array:\n",
      "9 0 6 4 0 45\n",
      "=> NumPy (given array)\n",
      "(2, 4)\n",
      "1.4 µs ± 2.72 ns per loop (mean ± std. dev. of 7 runs, 1,000,000 loops each)\n",
      "=> Regular Python (given array)\n",
      "(2, 4)\n",
      "289 ns ± 3.97 ns per loop (mean ± std. dev. of 7 runs, 1,000,000 loops each)\n",
      "=> NumPy (randon array with 10K elements)\n",
      "(1618, 8382)\n",
      "3.59 µs ± 26.8 ns per loop (mean ± std. dev. of 7 runs, 100,000 loops each)\n",
      "=> Regular Python (randon array with 10K elements)\n",
      "(1618, 8382)\n",
      "433 µs ± 592 ns per loop (mean ± std. dev. of 7 runs, 1,000 loops each)\n"
     ]
    }
   ],
   "source": [
    "task_8 ()\n"
   ]
  },
  {
   "cell_type": "markdown",
   "id": "247ebaef",
   "metadata": {},
   "source": [
    "### Вправа 9\n",
    "\n",
    "Вводиться число *n*. Створити масив значень від *n* до 0."
   ]
  },
  {
   "cell_type": "code",
   "execution_count": 30,
   "id": "57f0a02e",
   "metadata": {},
   "outputs": [],
   "source": [
    "def np_9(n):\n",
    "    return np.arange(n, -1, -1)\n",
    "\n",
    "def reg_9(n):\n",
    "    A = []\n",
    "    for i in range(n+1):\n",
    "        A.append(n-i)\n",
    "    return A\n",
    "\n",
    "def task_9():\n",
    "    print('Enter n:')\n",
    "    success, n = get_n(input())\n",
    "    if not success:\n",
    "        return\n",
    "    \n",
    "    print('=> NumPy')\n",
    "    print(np_9(n))\n",
    "    %timeit np_9(n)\n",
    "    \n",
    "    print('=> Regular')\n",
    "    print(np.array(reg_9(n)))\n",
    "    %timeit reg_9(n)"
   ]
  },
  {
   "cell_type": "code",
   "execution_count": 31,
   "id": "5683f4d2",
   "metadata": {},
   "outputs": [
    {
     "name": "stdout",
     "output_type": "stream",
     "text": [
      "Enter n:\n",
      "10\n",
      "=> NumPy\n",
      "[10  9  8  7  6  5  4  3  2  1  0]\n",
      "666 ns ± 2.87 ns per loop (mean ± std. dev. of 7 runs, 1,000,000 loops each)\n",
      "=> Regular\n",
      "[10  9  8  7  6  5  4  3  2  1  0]\n",
      "869 ns ± 1 ns per loop (mean ± std. dev. of 7 runs, 1,000,000 loops each)\n"
     ]
    }
   ],
   "source": [
    "task_9()"
   ]
  },
  {
   "cell_type": "code",
   "execution_count": null,
   "id": "734d68db",
   "metadata": {},
   "outputs": [],
   "source": [
    "task_9()"
   ]
  },
  {
   "cell_type": "markdown",
   "id": "864efb1e",
   "metadata": {},
   "source": [
    "### Вправа 12\n",
    "\n",
    "Створити масив одиниць розміром *n×n* та створити в ньому «рамку», що утворюється з 0."
   ]
  },
  {
   "cell_type": "code",
   "execution_count": 32,
   "id": "ebc1a873",
   "metadata": {},
   "outputs": [],
   "source": [
    "def np_12(n):\n",
    "    template = np.ones(n, dtype=int)\n",
    "    template[0] = template[n-1] = 0\n",
    "    A = np.full((n,n), template)\n",
    "    A[0] = np.zeros(n, dtype=int)\n",
    "    A[n-1] = np.zeros(n, dtype=int)\n",
    "    return A\n",
    "    \n",
    "\n",
    "def reg_12(n):\n",
    "    A = [[1 for i in range(n)] for j in range(n)]\n",
    "    for i in range(n):\n",
    "        A[0][i] = 0\n",
    "        A[i][0] = 0\n",
    "        A[n-1][i] = 0\n",
    "        A[i][n-1] = 0\n",
    "    return A\n",
    "\n",
    "def task_12():\n",
    "    print('Enter n:')\n",
    "    success, n = get_n(input())\n",
    "    if not success:\n",
    "        return\n",
    "    \n",
    "    print('=> NumPy')\n",
    "    print(np_12(n))\n",
    "    %timeit np_12(n)\n",
    "    \n",
    "    print('=> Regular')\n",
    "    print(np.array(reg_12(n)))\n",
    "    %timeit reg_12(n)"
   ]
  },
  {
   "cell_type": "code",
   "execution_count": 33,
   "id": "c11c242f",
   "metadata": {},
   "outputs": [
    {
     "name": "stdout",
     "output_type": "stream",
     "text": [
      "Enter n:\n",
      "8\n",
      "=> NumPy\n",
      "[[0 0 0 0 0 0 0 0]\n",
      " [0 1 1 1 1 1 1 0]\n",
      " [0 1 1 1 1 1 1 0]\n",
      " [0 1 1 1 1 1 1 0]\n",
      " [0 1 1 1 1 1 1 0]\n",
      " [0 1 1 1 1 1 1 0]\n",
      " [0 1 1 1 1 1 1 0]\n",
      " [0 0 0 0 0 0 0 0]]\n",
      "4.33 µs ± 47.5 ns per loop (mean ± std. dev. of 7 runs, 100,000 loops each)\n",
      "=> Regular\n",
      "[[0 0 0 0 0 0 0 0]\n",
      " [0 1 1 1 1 1 1 0]\n",
      " [0 1 1 1 1 1 1 0]\n",
      " [0 1 1 1 1 1 1 0]\n",
      " [0 1 1 1 1 1 1 0]\n",
      " [0 1 1 1 1 1 1 0]\n",
      " [0 1 1 1 1 1 1 0]\n",
      " [0 0 0 0 0 0 0 0]]\n",
      "5.37 µs ± 60 ns per loop (mean ± std. dev. of 7 runs, 100,000 loops each)\n"
     ]
    }
   ],
   "source": [
    "task_12()"
   ]
  },
  {
   "cell_type": "code",
   "execution_count": null,
   "id": "1290ac59",
   "metadata": {},
   "outputs": [],
   "source": [
    "task_12()"
   ]
  },
  {
   "cell_type": "markdown",
   "id": "e58bf601",
   "metadata": {},
   "source": [
    "### Вправа 13\n",
    "\n",
    "Розмістити на полі *8×8* нулі та одиниці в шахматному порядку, використовуючи функцію повторення (*)."
   ]
  },
  {
   "cell_type": "code",
   "execution_count": 34,
   "id": "fc9cbf1d",
   "metadata": {},
   "outputs": [],
   "source": [
    "def np_13(n):\n",
    "    x0 = np.array([0, 1] * int(n / 2)) \n",
    "    x1 = np.array([1, 0] * int(n / 2))\n",
    "    return np.array((x0, x1) * int(n / 2))\n",
    "    \n",
    "\n",
    "def reg_13(n):\n",
    "    A = [[0 for i in range(n)] for j in range(n)]\n",
    "    for i in range(n):\n",
    "        for j in range(n):\n",
    "            A[i][j] = (i+j)%2\n",
    "    return A\n",
    "\n",
    "def task_13():\n",
    "    n = 8\n",
    "    print('n =', n)\n",
    "    \n",
    "    print('=> NumPy')\n",
    "    print(np_13(n))\n",
    "    %timeit np_13(n)\n",
    "    \n",
    "    print('=> Regular')\n",
    "    print(np.array(reg_13(n)))\n",
    "    %timeit reg_13(n)"
   ]
  },
  {
   "cell_type": "code",
   "execution_count": 35,
   "id": "542e59c4",
   "metadata": {},
   "outputs": [
    {
     "name": "stdout",
     "output_type": "stream",
     "text": [
      "n = 8\n",
      "=> NumPy\n",
      "[[0 1 0 1 0 1 0 1]\n",
      " [1 0 1 0 1 0 1 0]\n",
      " [0 1 0 1 0 1 0 1]\n",
      " [1 0 1 0 1 0 1 0]\n",
      " [0 1 0 1 0 1 0 1]\n",
      " [1 0 1 0 1 0 1 0]\n",
      " [0 1 0 1 0 1 0 1]\n",
      " [1 0 1 0 1 0 1 0]]\n",
      "4.28 µs ± 13.4 ns per loop (mean ± std. dev. of 7 runs, 100,000 loops each)\n",
      "=> Regular\n",
      "[[0 1 0 1 0 1 0 1]\n",
      " [1 0 1 0 1 0 1 0]\n",
      " [0 1 0 1 0 1 0 1]\n",
      " [1 0 1 0 1 0 1 0]\n",
      " [0 1 0 1 0 1 0 1]\n",
      " [1 0 1 0 1 0 1 0]\n",
      " [0 1 0 1 0 1 0 1]\n",
      " [1 0 1 0 1 0 1 0]]\n",
      "9.05 µs ± 103 ns per loop (mean ± std. dev. of 7 runs, 100,000 loops each)\n"
     ]
    }
   ],
   "source": [
    "task_13()"
   ]
  },
  {
   "cell_type": "markdown",
   "id": "057bd2e6",
   "metadata": {},
   "source": [
    "### Вправа 15\n",
    "\n",
    "Заповнити парні стовпчикі матриці розміром *n×n* одиницями, а непарні – нулями. "
   ]
  },
  {
   "cell_type": "code",
   "execution_count": 36,
   "id": "317f15c9",
   "metadata": {},
   "outputs": [],
   "source": [
    "def np_15(n):\n",
    "    template = np.array([0, 1] * (int(n / 2) + 1))[0:n]\n",
    "    return np.tile(template, n).reshape(n, n)\n",
    "\n",
    "def reg_15(n):\n",
    "    x = [0 for i in range(n)]\n",
    "    for i in range(n):\n",
    "        x[i] = i%2\n",
    "    A = [x for j in range(n)]\n",
    "    return A\n",
    "\n",
    "def task_15():\n",
    "    print('Enter n:')\n",
    "    success, n = get_n(input())\n",
    "    if not success:\n",
    "        return\n",
    "    \n",
    "    print('=> NumPy')\n",
    "    print(np_15(n))\n",
    "    %timeit np_15(n)\n",
    "    \n",
    "    print('=> Regular')\n",
    "    print(np.array(reg_15(n)))\n",
    "    %timeit reg_15(n)"
   ]
  },
  {
   "cell_type": "code",
   "execution_count": 37,
   "id": "95bd14b8",
   "metadata": {},
   "outputs": [
    {
     "name": "stdout",
     "output_type": "stream",
     "text": [
      "Enter n:\n",
      "9\n",
      "=> NumPy\n",
      "[[0 1 0 1 0 1 0 1 0]\n",
      " [0 1 0 1 0 1 0 1 0]\n",
      " [0 1 0 1 0 1 0 1 0]\n",
      " [0 1 0 1 0 1 0 1 0]\n",
      " [0 1 0 1 0 1 0 1 0]\n",
      " [0 1 0 1 0 1 0 1 0]\n",
      " [0 1 0 1 0 1 0 1 0]\n",
      " [0 1 0 1 0 1 0 1 0]\n",
      " [0 1 0 1 0 1 0 1 0]]\n",
      "5.74 µs ± 86.1 ns per loop (mean ± std. dev. of 7 runs, 100,000 loops each)\n",
      "=> Regular\n",
      "[[0 1 0 1 0 1 0 1 0]\n",
      " [0 1 0 1 0 1 0 1 0]\n",
      " [0 1 0 1 0 1 0 1 0]\n",
      " [0 1 0 1 0 1 0 1 0]\n",
      " [0 1 0 1 0 1 0 1 0]\n",
      " [0 1 0 1 0 1 0 1 0]\n",
      " [0 1 0 1 0 1 0 1 0]\n",
      " [0 1 0 1 0 1 0 1 0]\n",
      " [0 1 0 1 0 1 0 1 0]]\n",
      "1.59 µs ± 20.4 ns per loop (mean ± std. dev. of 7 runs, 1,000,000 loops each)\n"
     ]
    }
   ],
   "source": [
    "task_15()"
   ]
  },
  {
   "cell_type": "code",
   "execution_count": null,
   "id": "6794739a",
   "metadata": {},
   "outputs": [],
   "source": [
    "task_15()"
   ]
  },
  {
   "cell_type": "markdown",
   "id": "b2be27f5",
   "metadata": {},
   "source": [
    "### Вправа 19\n",
    "\n",
    "Згенерувати вектор із *n* елементів, що рівномірно розміщені на інтервалі (0,1) – тобто обидва кінці інтервалу не включені. Значення вивести до 3 знаків після коми. \n"
   ]
  },
  {
   "cell_type": "code",
   "execution_count": 38,
   "id": "98f160fa",
   "metadata": {},
   "outputs": [],
   "source": [
    "import random\n",
    "\n",
    "def np_19(n):\n",
    "    return np.random.random(n)\n",
    "\n",
    "def reg_19(n):\n",
    "    x = [0 for i in range(n)]\n",
    "    for i in range(n):\n",
    "        x[i] = random.random()\n",
    "    return x\n",
    "\n",
    "def task_19():\n",
    "    print('Enter n:')\n",
    "    success, n = get_n(input())\n",
    "    if not success:\n",
    "        return\n",
    "    \n",
    "    np.set_printoptions(precision=3)\n",
    "    \n",
    "    print('=> NumPy')\n",
    "    print(np_19(n))\n",
    "    %timeit np_19(n)\n",
    "    \n",
    "    print('=> Regular')\n",
    "    print(np.array(reg_19(n)))\n",
    "    %timeit reg_19(n)"
   ]
  },
  {
   "cell_type": "code",
   "execution_count": 39,
   "id": "765ea04b",
   "metadata": {},
   "outputs": [
    {
     "name": "stdout",
     "output_type": "stream",
     "text": [
      "Enter n:\n",
      "10\n",
      "=> NumPy\n",
      "[0.304 0.457 0.189 0.127 0.141 0.019 0.683 0.356 0.366 0.711]\n",
      "792 ns ± 3.76 ns per loop (mean ± std. dev. of 7 runs, 1,000,000 loops each)\n",
      "=> Regular\n",
      "[0.149 0.596 0.971 0.939 0.156 0.15  0.421 0.319 0.276 0.5  ]\n",
      "1.44 µs ± 16.3 ns per loop (mean ± std. dev. of 7 runs, 1,000,000 loops each)\n"
     ]
    }
   ],
   "source": [
    "task_19()"
   ]
  },
  {
   "cell_type": "code",
   "execution_count": null,
   "id": "725bb127",
   "metadata": {},
   "outputs": [],
   "source": [
    "task_19()"
   ]
  }
 ],
 "metadata": {
  "kernelspec": {
   "display_name": "Python 3 (ipykernel)",
   "language": "python",
   "name": "python3"
  },
  "language_info": {
   "codemirror_mode": {
    "name": "ipython",
    "version": 3
   },
   "file_extension": ".py",
   "mimetype": "text/x-python",
   "name": "python",
   "nbconvert_exporter": "python",
   "pygments_lexer": "ipython3",
   "version": "3.10.9"
  }
 },
 "nbformat": 4,
 "nbformat_minor": 5
}
